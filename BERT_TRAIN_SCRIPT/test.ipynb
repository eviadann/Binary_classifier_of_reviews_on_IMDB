{
 "cells": [
  {
   "cell_type": "code",
   "execution_count": 1,
   "id": "28588fd2-d908-48c4-a5fc-7a690c3aa109",
   "metadata": {},
   "outputs": [],
   "source": [
    "from train import train_model\n",
    "from sklearn.model_selection import train_test_split"
   ]
  },
  {
   "cell_type": "code",
   "execution_count": 2,
   "id": "d48eb084-88e5-475d-be62-bd40dc1f0907",
   "metadata": {},
   "outputs": [],
   "source": [
    "from transformers import AutoTokenizer, AutoModelForSequenceClassification"
   ]
  },
  {
   "cell_type": "code",
   "execution_count": 2,
   "id": "996ff1e0-04ce-4976-bf13-bbf1a8246f8f",
   "metadata": {},
   "outputs": [],
   "source": [
    "import pandas as pd\n",
    "from datasets import load_dataset\n",
    "dataset = load_dataset(\"imdb\")\n",
    "train_df = pd.DataFrame(dataset['train']).sample(1000, random_state=42).reset_index(drop=True)\n",
    "test_df = pd.DataFrame(dataset['test']).sample(200, random_state=42).reset_index(drop=True)"
   ]
  },
  {
   "cell_type": "code",
   "execution_count": 8,
   "id": "7859def5-bd1e-49d2-b56d-b3f4b9c59bf9",
   "metadata": {},
   "outputs": [],
   "source": [
    "model_list = [\n",
    "    \"DeepPavlov/rubert-base-cased\",\n",
    "    \"cointegrated/rubert-tiny\",\n",
    "    \"ai-forever/sbert_large_nlu_ru\",\n",
    "    \"cointegrated/rubert-tiny\",\n",
    "    \"cointegrated/rubert-tiny2\",\n",
    "    \"ai-forever/ruRoberta-large\",\n",
    "    \"ai-forever/ruBert-base\",\n",
    "    \"ai-forever/ruBert-large\"    \n",
    "                \n",
    "            ]"
   ]
  },
  {
   "cell_type": "code",
   "execution_count": 9,
   "id": "c54542b6-0d00-44c5-b73b-fc1961cd8737",
   "metadata": {},
   "outputs": [
    {
     "name": "stderr",
     "output_type": "stream",
     "text": [
      "Some weights of BertForSequenceClassification were not initialized from the model checkpoint at DeepPavlov/rubert-base-cased and are newly initialized: ['classifier.bias', 'classifier.weight']\n",
      "You should probably TRAIN this model on a down-stream task to be able to use it for predictions and inference.\n",
      "Some weights of BertForSequenceClassification were not initialized from the model checkpoint at cointegrated/rubert-tiny and are newly initialized: ['classifier.bias', 'classifier.weight']\n",
      "You should probably TRAIN this model on a down-stream task to be able to use it for predictions and inference.\n",
      "Some weights of BertForSequenceClassification were not initialized from the model checkpoint at ai-forever/sbert_large_nlu_ru and are newly initialized: ['classifier.bias', 'classifier.weight']\n",
      "You should probably TRAIN this model on a down-stream task to be able to use it for predictions and inference.\n",
      "Some weights of BertForSequenceClassification were not initialized from the model checkpoint at cointegrated/rubert-tiny and are newly initialized: ['classifier.bias', 'classifier.weight']\n",
      "You should probably TRAIN this model on a down-stream task to be able to use it for predictions and inference.\n",
      "Some weights of BertForSequenceClassification were not initialized from the model checkpoint at cointegrated/rubert-tiny2 and are newly initialized: ['classifier.bias', 'classifier.weight']\n",
      "You should probably TRAIN this model on a down-stream task to be able to use it for predictions and inference.\n",
      "Some weights of RobertaForSequenceClassification were not initialized from the model checkpoint at ai-forever/ruRoberta-large and are newly initialized: ['classifier.dense.bias', 'classifier.dense.weight', 'classifier.out_proj.bias', 'classifier.out_proj.weight']\n",
      "You should probably TRAIN this model on a down-stream task to be able to use it for predictions and inference.\n",
      "Some weights of BertForSequenceClassification were not initialized from the model checkpoint at ai-forever/ruBert-base and are newly initialized: ['classifier.bias', 'classifier.weight']\n",
      "You should probably TRAIN this model on a down-stream task to be able to use it for predictions and inference.\n",
      "Some weights of BertForSequenceClassification were not initialized from the model checkpoint at ai-forever/ruBert-large and are newly initialized: ['classifier.bias', 'classifier.weight']\n",
      "You should probably TRAIN this model on a down-stream task to be able to use it for predictions and inference.\n"
     ]
    }
   ],
   "source": [
    "for path in model_list:\n",
    "    tokenizer = AutoTokenizer.from_pretrained(path)\n",
    "    model = AutoModelForSequenceClassification.from_pretrained(path, num_labels=2)"
   ]
  },
  {
   "cell_type": "code",
   "execution_count": 10,
   "id": "f9993795-4d9a-41d4-93f3-8dbebbc9bdad",
   "metadata": {},
   "outputs": [
    {
     "name": "stdout",
     "output_type": "stream",
     "text": [
      "DeepPavlov/rubert-base-cased\n",
      "cointegrated/rubert-tiny\n",
      "ai-forever/sbert_large_nlu_ru\n",
      "cointegrated/rubert-tiny\n",
      "cointegrated/rubert-tiny2\n",
      "ai-forever/ruRoberta-large\n",
      "ai-forever/ruBert-base\n",
      "ai-forever/ruBert-large\n"
     ]
    }
   ],
   "source": [
    "for path in model_list:\n",
    "    print(path)"
   ]
  },
  {
   "cell_type": "code",
   "execution_count": null,
   "id": "279ec469-b61b-42c9-85d5-5bd11cf10843",
   "metadata": {},
   "outputs": [],
   "source": [
    "config_list = [\"config.yaml\"]"
   ]
  },
  {
   "cell_type": "code",
   "execution_count": 3,
   "id": "ed090a74-13b2-4377-aa66-888fd4874766",
   "metadata": {},
   "outputs": [],
   "source": [
    "train, val = train_test_split(train_df, test_size=0.1, random_state=13, stratify=train_df.label)"
   ]
  },
  {
   "cell_type": "code",
   "execution_count": null,
   "id": "241500a5-997e-4a87-b76a-4e4369dd4b21",
   "metadata": {},
   "outputs": [],
   "source": [
    "train.head(2)"
   ]
  },
  {
   "cell_type": "code",
   "execution_count": null,
   "id": "0120692b-df11-45b7-9a6d-d4ecfffef122",
   "metadata": {},
   "outputs": [],
   "source": [
    "for conf in config_list:\n",
    "    model = train_model(train_df=train, val_df=val, config_path=f\"configs/{conf}\", seed_all=13)\n",
    "    \n",
    "    opt_f1 = model.find_optimal_threshold(test_df,\n",
    "                               text_column=\"text\",\n",
    "                               label_column=\"label\",\n",
    "                               batch_size=32,\n",
    "                               metric=\"f1\",\n",
    "                               thresholds=None,\n",
    "                               average=\"weighted\",\n",
    "                               show_plot=True)\n",
    "    thr_dict = {\"base\": 0.5,\n",
    "               \"optimal\": opt_f1}\n",
    "    \n",
    "    model.generate_classification_report(test_df, text_column=\"text\", label_column=\"label\", batch_size=32,\n",
    "                                       threshold_dict=None, save_to_file=False)\n",
    "    \n",
    "    \n",
    "    "
   ]
  },
  {
   "cell_type": "code",
   "execution_count": null,
   "id": "068481dd-e3ac-48f7-b38d-251b294cd594",
   "metadata": {},
   "outputs": [],
   "source": []
  }
 ],
 "metadata": {
  "kernelspec": {
   "display_name": "Python 3 (ipykernel)",
   "language": "python",
   "name": "python3"
  },
  "language_info": {
   "codemirror_mode": {
    "name": "ipython",
    "version": 3
   },
   "file_extension": ".py",
   "mimetype": "text/x-python",
   "name": "python",
   "nbconvert_exporter": "python",
   "pygments_lexer": "ipython3",
   "version": "3.12.4"
  },
  "widgets": {
   "application/vnd.jupyter.widget-state+json": {
    "state": {
     "0030c18cd8da42e89ddf83d90634f8e3": {
      "model_module": "@jupyter-widgets/controls",
      "model_module_version": "2.0.0",
      "model_name": "HBoxModel",
      "state": {
       "children": [
        "IPY_MODEL_fe11544f4e4c46ffac337de5a67da458",
        "IPY_MODEL_013b12e21fef46f1ba8cf427311b3649",
        "IPY_MODEL_747c8877ffde4c6c848b91367f717e0f"
       ],
       "layout": "IPY_MODEL_32c3d7e98b0c4fcb9580385f39c79e1a"
      }
     },
     "00e51492259f4db98d83556f20844d51": {
      "model_module": "@jupyter-widgets/controls",
      "model_module_version": "2.0.0",
      "model_name": "HTMLStyleModel",
      "state": {
       "description_width": "",
       "font_size": null,
       "text_color": null
      }
     },
     "013b12e21fef46f1ba8cf427311b3649": {
      "model_module": "@jupyter-widgets/controls",
      "model_module_version": "2.0.0",
      "model_name": "FloatProgressModel",
      "state": {
       "bar_style": "success",
       "layout": "IPY_MODEL_a166f8f084394d118d8c55674c7a77a3",
       "max": 1811625,
       "style": "IPY_MODEL_5499046ba59846c1ac7abb274254697b",
       "value": 1811625
      }
     },
     "01a89b4f1555426a8a4a54849ca833a5": {
      "model_module": "@jupyter-widgets/controls",
      "model_module_version": "2.0.0",
      "model_name": "HTMLStyleModel",
      "state": {
       "description_width": "",
       "font_size": null,
       "text_color": null
      }
     },
     "01f70ab63dcc449b950f09a8878c364c": {
      "model_module": "@jupyter-widgets/base",
      "model_module_version": "2.0.0",
      "model_name": "LayoutModel",
      "state": {}
     },
     "021841ae3a6f41c59aedd52763bcfc8b": {
      "model_module": "@jupyter-widgets/controls",
      "model_module_version": "2.0.0",
      "model_name": "HTMLModel",
      "state": {
       "layout": "IPY_MODEL_94f75a34d322492bbf7e6a6a07ac0dc3",
       "style": "IPY_MODEL_f52c738f7f854506870edebb457cc12e",
       "value": "model.safetensors: 100%"
      }
     },
     "02ae7da0d0e24ac8b7e2901d72466087": {
      "model_module": "@jupyter-widgets/controls",
      "model_module_version": "2.0.0",
      "model_name": "ProgressStyleModel",
      "state": {
       "description_width": ""
      }
     },
     "0357f2a3801f454b910e1014ecf396a8": {
      "model_module": "@jupyter-widgets/controls",
      "model_module_version": "2.0.0",
      "model_name": "HTMLModel",
      "state": {
       "layout": "IPY_MODEL_7e86320d79de4897bfc4bf668ad2ade1",
       "style": "IPY_MODEL_fa6ff2a0374144f7aec384059219f106",
       "value": "tokenizer_config.json: 100%"
      }
     },
     "04317b9e401841ddbd78fe8b8b55572d": {
      "model_module": "@jupyter-widgets/base",
      "model_module_version": "2.0.0",
      "model_name": "LayoutModel",
      "state": {}
     },
     "050aca130f914d9c9ecf87d056c315eb": {
      "model_module": "@jupyter-widgets/controls",
      "model_module_version": "2.0.0",
      "model_name": "ProgressStyleModel",
      "state": {
       "description_width": ""
      }
     },
     "05adcea45db843d89c2c2b3fad49b040": {
      "model_module": "@jupyter-widgets/base",
      "model_module_version": "2.0.0",
      "model_name": "LayoutModel",
      "state": {}
     },
     "081d2d4a3d604639b6ac028f334893a2": {
      "model_module": "@jupyter-widgets/base",
      "model_module_version": "2.0.0",
      "model_name": "LayoutModel",
      "state": {}
     },
     "098029cdb7de4dc8b17496ec124281c1": {
      "model_module": "@jupyter-widgets/controls",
      "model_module_version": "2.0.0",
      "model_name": "HTMLStyleModel",
      "state": {
       "description_width": "",
       "font_size": null,
       "text_color": null
      }
     },
     "0a29bf09e4014ba1abe63be9700e7f2f": {
      "model_module": "@jupyter-widgets/base",
      "model_module_version": "2.0.0",
      "model_name": "LayoutModel",
      "state": {}
     },
     "0b3d18b7ea7241869e4ee13eea35ceac": {
      "model_module": "@jupyter-widgets/base",
      "model_module_version": "2.0.0",
      "model_name": "LayoutModel",
      "state": {}
     },
     "0c348cbd3d6544a5a63766f22f84bc4f": {
      "model_module": "@jupyter-widgets/controls",
      "model_module_version": "2.0.0",
      "model_name": "ProgressStyleModel",
      "state": {
       "description_width": ""
      }
     },
     "0ed20e1bfc804a4e85c1436280fe580e": {
      "model_module": "@jupyter-widgets/controls",
      "model_module_version": "2.0.0",
      "model_name": "FloatProgressModel",
      "state": {
       "bar_style": "success",
       "layout": "IPY_MODEL_4e3ae163c9e941f9920af8e39ef872ac",
       "max": 863,
       "style": "IPY_MODEL_c7cbfb0bd36c4e929e5c9400cdca4183",
       "value": 863
      }
     },
     "0f20057fe16144e0b041e5a12cda860a": {
      "model_module": "@jupyter-widgets/controls",
      "model_module_version": "2.0.0",
      "model_name": "HTMLStyleModel",
      "state": {
       "description_width": "",
       "font_size": null,
       "text_color": null
      }
     },
     "10678b7023574963b971749c675004e1": {
      "model_module": "@jupyter-widgets/base",
      "model_module_version": "2.0.0",
      "model_name": "LayoutModel",
      "state": {}
     },
     "10d069f944b0441fae4bb225b79e395e": {
      "model_module": "@jupyter-widgets/base",
      "model_module_version": "2.0.0",
      "model_name": "LayoutModel",
      "state": {}
     },
     "13462f9534a44cf99ce0560a616d7b33": {
      "model_module": "@jupyter-widgets/base",
      "model_module_version": "2.0.0",
      "model_name": "LayoutModel",
      "state": {}
     },
     "13e5e3c7be6d4b6ca2ff32fee5e36f5d": {
      "model_module": "@jupyter-widgets/base",
      "model_module_version": "2.0.0",
      "model_name": "LayoutModel",
      "state": {}
     },
     "15c6896eefb642438e036153103a6687": {
      "model_module": "@jupyter-widgets/base",
      "model_module_version": "2.0.0",
      "model_name": "LayoutModel",
      "state": {}
     },
     "15f1cff9b419456297188a16cdb14875": {
      "model_module": "@jupyter-widgets/base",
      "model_module_version": "2.0.0",
      "model_name": "LayoutModel",
      "state": {}
     },
     "16392965419a42f9bba88c33fa4ebf18": {
      "model_module": "@jupyter-widgets/controls",
      "model_module_version": "2.0.0",
      "model_name": "FloatProgressModel",
      "state": {
       "bar_style": "success",
       "layout": "IPY_MODEL_f378773f2fbf42b6b603f8e516c8d0b2",
       "max": 642,
       "style": "IPY_MODEL_0c348cbd3d6544a5a63766f22f84bc4f",
       "value": 642
      }
     },
     "165777305b344d0291eb1816d8a61816": {
      "model_module": "@jupyter-widgets/base",
      "model_module_version": "2.0.0",
      "model_name": "LayoutModel",
      "state": {}
     },
     "16b44a526cac4122b523c0aced2d84e6": {
      "model_module": "@jupyter-widgets/controls",
      "model_module_version": "2.0.0",
      "model_name": "HTMLStyleModel",
      "state": {
       "description_width": "",
       "font_size": null,
       "text_color": null
      }
     },
     "189507917df94b45893dfafb37bf38f5": {
      "model_module": "@jupyter-widgets/base",
      "model_module_version": "2.0.0",
      "model_name": "LayoutModel",
      "state": {}
     },
     "1908fd5aff5c4044a2422c2215d2e4a6": {
      "model_module": "@jupyter-widgets/base",
      "model_module_version": "2.0.0",
      "model_name": "LayoutModel",
      "state": {}
     },
     "19ac71792b3a4dc6a64c0924c14b5e83": {
      "model_module": "@jupyter-widgets/base",
      "model_module_version": "2.0.0",
      "model_name": "LayoutModel",
      "state": {}
     },
     "1b386c89fe354f65b8a46d0be2dd9e19": {
      "model_module": "@jupyter-widgets/base",
      "model_module_version": "2.0.0",
      "model_name": "LayoutModel",
      "state": {}
     },
     "1da267a652d543919bddfc04f48d6a3c": {
      "model_module": "@jupyter-widgets/base",
      "model_module_version": "2.0.0",
      "model_name": "LayoutModel",
      "state": {}
     },
     "1dc42143b6f54a13bd002097531031c9": {
      "model_module": "@jupyter-widgets/base",
      "model_module_version": "2.0.0",
      "model_name": "LayoutModel",
      "state": {}
     },
     "1fd24933346749d19fbdcf1afd3e51f5": {
      "model_module": "@jupyter-widgets/controls",
      "model_module_version": "2.0.0",
      "model_name": "HTMLStyleModel",
      "state": {
       "description_width": "",
       "font_size": null,
       "text_color": null
      }
     },
     "202800f7fe9a4bb09da5c82d6c382078": {
      "model_module": "@jupyter-widgets/controls",
      "model_module_version": "2.0.0",
      "model_name": "ProgressStyleModel",
      "state": {
       "description_width": ""
      }
     },
     "213b3eed4b05485d9c5dc095eaa6035b": {
      "model_module": "@jupyter-widgets/base",
      "model_module_version": "2.0.0",
      "model_name": "LayoutModel",
      "state": {}
     },
     "226d313ca5de416d8aa8098d2bf1c00a": {
      "model_module": "@jupyter-widgets/controls",
      "model_module_version": "2.0.0",
      "model_name": "FloatProgressModel",
      "state": {
       "bar_style": "success",
       "layout": "IPY_MODEL_628d98bd0116475cacbb4f7f2b207bd6",
       "max": 1649718,
       "style": "IPY_MODEL_2556acff2bec480ea33e46d514cc64cf",
       "value": 1649718
      }
     },
     "23027b915eba4d60b7d74b44f05b7734": {
      "model_module": "@jupyter-widgets/controls",
      "model_module_version": "2.0.0",
      "model_name": "HTMLModel",
      "state": {
       "layout": "IPY_MODEL_633b2911ba6040df9aeaeaa5ee94cc05",
       "style": "IPY_MODEL_f262e9a4ae03407ca73d95227da31d52",
       "value": "tokenizer.json: 100%"
      }
     },
     "24543bf4f0104eee8757570b6d335ba0": {
      "model_module": "@jupyter-widgets/base",
      "model_module_version": "2.0.0",
      "model_name": "LayoutModel",
      "state": {}
     },
     "2556acff2bec480ea33e46d514cc64cf": {
      "model_module": "@jupyter-widgets/controls",
      "model_module_version": "2.0.0",
      "model_name": "ProgressStyleModel",
      "state": {
       "description_width": ""
      }
     },
     "2565bbe096cf421ea504b30975f408d5": {
      "model_module": "@jupyter-widgets/controls",
      "model_module_version": "2.0.0",
      "model_name": "HTMLModel",
      "state": {
       "layout": "IPY_MODEL_27f342f1837549638db1de1cdf70f36c",
       "style": "IPY_MODEL_401d7ee9adce4707a20cd6dffe3aa02a",
       "value": "config.json: 100%"
      }
     },
     "2764656bd2354a1d83339227bc8ebe24": {
      "model_module": "@jupyter-widgets/controls",
      "model_module_version": "2.0.0",
      "model_name": "HTMLStyleModel",
      "state": {
       "description_width": "",
       "font_size": null,
       "text_color": null
      }
     },
     "27f342f1837549638db1de1cdf70f36c": {
      "model_module": "@jupyter-widgets/base",
      "model_module_version": "2.0.0",
      "model_name": "LayoutModel",
      "state": {}
     },
     "290fc815c233403b99071316cd3f1880": {
      "model_module": "@jupyter-widgets/controls",
      "model_module_version": "2.0.0",
      "model_name": "HTMLModel",
      "state": {
       "layout": "IPY_MODEL_10678b7023574963b971749c675004e1",
       "style": "IPY_MODEL_6ab701aece3545a089ecd844c28930af",
       "value": " 714M/714M [01:05&lt;00:00, 11.2MB/s]"
      }
     },
     "2a05f791ea224fecb04897f84aa2f9a9": {
      "model_module": "@jupyter-widgets/controls",
      "model_module_version": "2.0.0",
      "model_name": "HTMLModel",
      "state": {
       "layout": "IPY_MODEL_15f1cff9b419456297188a16cdb14875",
       "style": "IPY_MODEL_0f20057fe16144e0b041e5a12cda860a",
       "value": "config.json: 100%"
      }
     },
     "2b1a57121f0342539ab263eecd1b42e2": {
      "model_module": "@jupyter-widgets/controls",
      "model_module_version": "2.0.0",
      "model_name": "HTMLModel",
      "state": {
       "layout": "IPY_MODEL_fc48b0dc59084b8d875329156fbb3780",
       "style": "IPY_MODEL_c22873d333d44674bca02e978adc219e",
       "value": " 1.65M/1.65M [00:00&lt;00:00, 2.73MB/s]"
      }
     },
     "2da9aec53f584a8db4d19d5fa86f37fc": {
      "model_module": "@jupyter-widgets/controls",
      "model_module_version": "2.0.0",
      "model_name": "HBoxModel",
      "state": {
       "children": [
        "IPY_MODEL_3530116fb6bc41369b19b0ae2ea1ce06",
        "IPY_MODEL_45e3568a7786471bb8878f99fcae072a",
        "IPY_MODEL_c6d17c7e702d4b139fd660e6c350e5a7"
       ],
       "layout": "IPY_MODEL_e12b6ce0732e46d688bb251c0dba1b8e"
      }
     },
     "2f47e4082fe84b11be0e743794914be5": {
      "model_module": "@jupyter-widgets/base",
      "model_module_version": "2.0.0",
      "model_name": "LayoutModel",
      "state": {}
     },
     "304c824b0ebb4c41b26bac290b4dfd0c": {
      "model_module": "@jupyter-widgets/controls",
      "model_module_version": "2.0.0",
      "model_name": "FloatProgressModel",
      "state": {
       "bar_style": "success",
       "layout": "IPY_MODEL_42dd5114fa5f4cbda31b65f5ca497689",
       "max": 714294900,
       "style": "IPY_MODEL_5f627d06da074a3780cc651f21982845",
       "value": 714294900
      }
     },
     "307e728d72874ab49f0bced7d71053a3": {
      "model_module": "@jupyter-widgets/base",
      "model_module_version": "2.0.0",
      "model_name": "LayoutModel",
      "state": {}
     },
     "317c44143bf746b09dd9af24d8287a9b": {
      "model_module": "@jupyter-widgets/base",
      "model_module_version": "2.0.0",
      "model_name": "LayoutModel",
      "state": {}
     },
     "32ba44ae24ca49108a4819b69b599a3d": {
      "model_module": "@jupyter-widgets/controls",
      "model_module_version": "2.0.0",
      "model_name": "HTMLStyleModel",
      "state": {
       "description_width": "",
       "font_size": null,
       "text_color": null
      }
     },
     "32bf815f48ce4c969c22cf540b640286": {
      "model_module": "@jupyter-widgets/controls",
      "model_module_version": "2.0.0",
      "model_name": "HTMLModel",
      "state": {
       "layout": "IPY_MODEL_a0eb11386db045879cb113cf1bf05fc5",
       "style": "IPY_MODEL_7edb130a17524154bad2c203f40c6708",
       "value": "model.safetensors: 100%"
      }
     },
     "32c3d7e98b0c4fcb9580385f39c79e1a": {
      "model_module": "@jupyter-widgets/base",
      "model_module_version": "2.0.0",
      "model_name": "LayoutModel",
      "state": {}
     },
     "32f5a05160f14435a6a6372a3aec6431": {
      "model_module": "@jupyter-widgets/controls",
      "model_module_version": "2.0.0",
      "model_name": "HBoxModel",
      "state": {
       "children": [
        "IPY_MODEL_7099e0c1f7734fb881551070d58a5868",
        "IPY_MODEL_3f17d1d2e57b4fb2922b67db4b8debf0",
        "IPY_MODEL_81dd0fedbef7431c8e47151a2a37406e"
       ],
       "layout": "IPY_MODEL_638909a741414ab5bbf171b02a4359fa"
      }
     },
     "345414f12ff04c4995a5613c3e299868": {
      "model_module": "@jupyter-widgets/controls",
      "model_module_version": "2.0.0",
      "model_name": "HTMLModel",
      "state": {
       "layout": "IPY_MODEL_0b3d18b7ea7241869e4ee13eea35ceac",
       "style": "IPY_MODEL_f2878f0fd2434f1bb4f7fdc1c9d665d2",
       "value": " 714M/714M [02:03&lt;00:00, 6.01MB/s]"
      }
     },
     "3530116fb6bc41369b19b0ae2ea1ce06": {
      "model_module": "@jupyter-widgets/controls",
      "model_module_version": "2.0.0",
      "model_name": "HTMLModel",
      "state": {
       "layout": "IPY_MODEL_88e9458f481c4b32b125dca261334baa",
       "style": "IPY_MODEL_ab0bfc24da6c422ab39e6a49da04c124",
       "value": "vocab.txt: 100%"
      }
     },
     "35f5f12ccf7a4fb3af6aa9bbdc1806e4": {
      "model_module": "@jupyter-widgets/controls",
      "model_module_version": "2.0.0",
      "model_name": "HTMLModel",
      "state": {
       "layout": "IPY_MODEL_39a2c7107034497ca4ea4a65f7673638",
       "style": "IPY_MODEL_5d6ca1a220994c969f512ae9e761c751",
       "value": " 3.71M/3.71M [00:00&lt;00:00, 4.50MB/s]"
      }
     },
     "37e8084bfdc646eba54af34f8546cd82": {
      "model_module": "@jupyter-widgets/controls",
      "model_module_version": "2.0.0",
      "model_name": "HBoxModel",
      "state": {
       "children": [
        "IPY_MODEL_76d1570884a84bc68e9a1c16d6383303",
        "IPY_MODEL_868dd2aa2452443a850ef715dbe61126",
        "IPY_MODEL_a14d206cf7cc4ca5ade1dccc0876183c"
       ],
       "layout": "IPY_MODEL_1dc42143b6f54a13bd002097531031c9"
      }
     },
     "39a2c7107034497ca4ea4a65f7673638": {
      "model_module": "@jupyter-widgets/base",
      "model_module_version": "2.0.0",
      "model_name": "LayoutModel",
      "state": {}
     },
     "3f17d1d2e57b4fb2922b67db4b8debf0": {
      "model_module": "@jupyter-widgets/controls",
      "model_module_version": "2.0.0",
      "model_name": "FloatProgressModel",
      "state": {
       "bar_style": "success",
       "layout": "IPY_MODEL_1b386c89fe354f65b8a46d0be2dd9e19",
       "max": 125,
       "style": "IPY_MODEL_fee88f451025449f8e729d83eba14a20",
       "value": 125
      }
     },
     "401d7ee9adce4707a20cd6dffe3aa02a": {
      "model_module": "@jupyter-widgets/controls",
      "model_module_version": "2.0.0",
      "model_name": "HTMLStyleModel",
      "state": {
       "description_width": "",
       "font_size": null,
       "text_color": null
      }
     },
     "42c5c6bf4c4f4b6688143b92067e9e8b": {
      "model_module": "@jupyter-widgets/controls",
      "model_module_version": "2.0.0",
      "model_name": "FloatProgressModel",
      "state": {
       "bar_style": "success",
       "layout": "IPY_MODEL_0a29bf09e4014ba1abe63be9700e7f2f",
       "max": 112,
       "style": "IPY_MODEL_cecbf1d0e9c24a8f9d0ec8fd26975e3d",
       "value": 112
      }
     },
     "42dd5114fa5f4cbda31b65f5ca497689": {
      "model_module": "@jupyter-widgets/base",
      "model_module_version": "2.0.0",
      "model_name": "LayoutModel",
      "state": {}
     },
     "43290ec9df7744ee98d58549fd10a994": {
      "model_module": "@jupyter-widgets/base",
      "model_module_version": "2.0.0",
      "model_name": "LayoutModel",
      "state": {}
     },
     "4356348bbbff4c3abd8daa90f4a9e812": {
      "model_module": "@jupyter-widgets/controls",
      "model_module_version": "2.0.0",
      "model_name": "HTMLStyleModel",
      "state": {
       "description_width": "",
       "font_size": null,
       "text_color": null
      }
     },
     "45002a58ae4746d695b8f2fb1cada697": {
      "model_module": "@jupyter-widgets/controls",
      "model_module_version": "2.0.0",
      "model_name": "HTMLModel",
      "state": {
       "layout": "IPY_MODEL_933f475b8f3b442dba5ca8ecf7163cfb",
       "style": "IPY_MODEL_e068930ed91b4e3f8d70694f0f3ef66a",
       "value": "model.safetensors: 100%"
      }
     },
     "4583a9ed038b4083af44b81051f361a8": {
      "model_module": "@jupyter-widgets/controls",
      "model_module_version": "2.0.0",
      "model_name": "FloatProgressModel",
      "state": {
       "bar_style": "success",
       "layout": "IPY_MODEL_10d069f944b0441fae4bb225b79e395e",
       "max": 1421700852,
       "style": "IPY_MODEL_050aca130f914d9c9ecf87d056c315eb",
       "value": 1421700852
      }
     },
     "45e3568a7786471bb8878f99fcae072a": {
      "model_module": "@jupyter-widgets/controls",
      "model_module_version": "2.0.0",
      "model_name": "FloatProgressModel",
      "state": {
       "bar_style": "success",
       "layout": "IPY_MODEL_b5751e3ec02e4e3f8b61ee11d7c21c49",
       "max": 1780720,
       "style": "IPY_MODEL_202800f7fe9a4bb09da5c82d6c382078",
       "value": 1780720
      }
     },
     "46e6b74074a8473198f902100242ad72": {
      "model_module": "@jupyter-widgets/controls",
      "model_module_version": "2.0.0",
      "model_name": "HTMLStyleModel",
      "state": {
       "description_width": "",
       "font_size": null,
       "text_color": null
      }
     },
     "47774f5c9bd341648bd7de42a0684202": {
      "model_module": "@jupyter-widgets/controls",
      "model_module_version": "2.0.0",
      "model_name": "FloatProgressModel",
      "state": {
       "bar_style": "success",
       "layout": "IPY_MODEL_f61951fd59d34affbc1b0de6b36c5a56",
       "max": 714355318,
       "style": "IPY_MODEL_72c783180fd4441f8415f087c6d8873d",
       "value": 714355318
      }
     },
     "483283b46ff24eae868b333bac064256": {
      "model_module": "@jupyter-widgets/controls",
      "model_module_version": "2.0.0",
      "model_name": "HBoxModel",
      "state": {
       "children": [
        "IPY_MODEL_ad34e8503ae14706a881df4011d17b40",
        "IPY_MODEL_7d857a5041b34edbb32b4f1af84a0ec1",
        "IPY_MODEL_9b0711124b6447698a140192c2e74750"
       ],
       "layout": "IPY_MODEL_8072a0823c8a4a56bd1dca4521d713ef"
      }
     },
     "48ecf7af8e9f44d0b10c0700fcb1576b": {
      "model_module": "@jupyter-widgets/controls",
      "model_module_version": "2.0.0",
      "model_name": "HTMLStyleModel",
      "state": {
       "description_width": "",
       "font_size": null,
       "text_color": null
      }
     },
     "4931dd653ea44397bf436345f07a1c2f": {
      "model_module": "@jupyter-widgets/controls",
      "model_module_version": "2.0.0",
      "model_name": "FloatProgressModel",
      "state": {
       "bar_style": "success",
       "layout": "IPY_MODEL_ab9abf8623b940bd906329ef7a633126",
       "max": 1707679808,
       "style": "IPY_MODEL_d2b9677f376143eeb49883b8dabb9a76",
       "value": 1707679808
      }
     },
     "4bda177a2c444e71a9bfe37e4d81c533": {
      "model_module": "@jupyter-widgets/base",
      "model_module_version": "2.0.0",
      "model_name": "LayoutModel",
      "state": {}
     },
     "4d12925314054b8586c41b6bcbb54f9e": {
      "model_module": "@jupyter-widgets/controls",
      "model_module_version": "2.0.0",
      "model_name": "HBoxModel",
      "state": {
       "children": [
        "IPY_MODEL_0357f2a3801f454b910e1014ecf396a8",
        "IPY_MODEL_c8c4b028361e400aa0275050d4dfa88d",
        "IPY_MODEL_ee9dab5f91e34043986037b9e9425fac"
       ],
       "layout": "IPY_MODEL_5f2e0cd4ace74e968d21cc6d07ef5354"
      }
     },
     "4e3ae163c9e941f9920af8e39ef872ac": {
      "model_module": "@jupyter-widgets/base",
      "model_module_version": "2.0.0",
      "model_name": "LayoutModel",
      "state": {}
     },
     "52b4bf4e174241a88435b52b3740f557": {
      "model_module": "@jupyter-widgets/controls",
      "model_module_version": "2.0.0",
      "model_name": "HBoxModel",
      "state": {
       "children": [
        "IPY_MODEL_b1739b938f4d4f379df26983b09c1dd3",
        "IPY_MODEL_42c5c6bf4c4f4b6688143b92067e9e8b",
        "IPY_MODEL_bbb84fd801934347af20b4cee409e81a"
       ],
       "layout": "IPY_MODEL_b34c2171fe5f4a0fb35e094994a9a183"
      }
     },
     "546ec57acd85456e974a192858cacc0c": {
      "model_module": "@jupyter-widgets/controls",
      "model_module_version": "2.0.0",
      "model_name": "HTMLModel",
      "state": {
       "layout": "IPY_MODEL_896c7ec992ef48e68fd107fcb8e05de1",
       "style": "IPY_MODEL_76458cce15ae4edca2538a786682b36a",
       "value": "model.safetensors: 100%"
      }
     },
     "5499046ba59846c1ac7abb274254697b": {
      "model_module": "@jupyter-widgets/controls",
      "model_module_version": "2.0.0",
      "model_name": "ProgressStyleModel",
      "state": {
       "description_width": ""
      }
     },
     "56322bef7f4e43afba539cba59ea1320": {
      "model_module": "@jupyter-widgets/controls",
      "model_module_version": "2.0.0",
      "model_name": "HBoxModel",
      "state": {
       "children": [
        "IPY_MODEL_99868db38aa74ba884cfc73cb39bd2ad",
        "IPY_MODEL_16392965419a42f9bba88c33fa4ebf18",
        "IPY_MODEL_9e573456cb8c441889f06d73921e2a7d"
       ],
       "layout": "IPY_MODEL_8cb8ab90d07248729f340977c29ac158"
      }
     },
     "568b066709fe4f7586fdac07f812f664": {
      "model_module": "@jupyter-widgets/base",
      "model_module_version": "2.0.0",
      "model_name": "LayoutModel",
      "state": {}
     },
     "56acc7e56cef41f7a4020a315770234e": {
      "model_module": "@jupyter-widgets/base",
      "model_module_version": "2.0.0",
      "model_name": "LayoutModel",
      "state": {}
     },
     "58f6fb49941d4a198f554b8eabdaf982": {
      "model_module": "@jupyter-widgets/base",
      "model_module_version": "2.0.0",
      "model_name": "LayoutModel",
      "state": {}
     },
     "59bc634b206d44aa9499cd582edb8776": {
      "model_module": "@jupyter-widgets/base",
      "model_module_version": "2.0.0",
      "model_name": "LayoutModel",
      "state": {}
     },
     "5a663b23f65e47f597815ed7cee75964": {
      "model_module": "@jupyter-widgets/controls",
      "model_module_version": "2.0.0",
      "model_name": "HTMLStyleModel",
      "state": {
       "description_width": "",
       "font_size": null,
       "text_color": null
      }
     },
     "5d6ca1a220994c969f512ae9e761c751": {
      "model_module": "@jupyter-widgets/controls",
      "model_module_version": "2.0.0",
      "model_name": "HTMLStyleModel",
      "state": {
       "description_width": "",
       "font_size": null,
       "text_color": null
      }
     },
     "5e6abe250b5e4485ab23831525ea1af0": {
      "model_module": "@jupyter-widgets/controls",
      "model_module_version": "2.0.0",
      "model_name": "HTMLStyleModel",
      "state": {
       "description_width": "",
       "font_size": null,
       "text_color": null
      }
     },
     "5f2e0cd4ace74e968d21cc6d07ef5354": {
      "model_module": "@jupyter-widgets/base",
      "model_module_version": "2.0.0",
      "model_name": "LayoutModel",
      "state": {}
     },
     "5f627d06da074a3780cc651f21982845": {
      "model_module": "@jupyter-widgets/controls",
      "model_module_version": "2.0.0",
      "model_name": "ProgressStyleModel",
      "state": {
       "description_width": ""
      }
     },
     "628d98bd0116475cacbb4f7f2b207bd6": {
      "model_module": "@jupyter-widgets/base",
      "model_module_version": "2.0.0",
      "model_name": "LayoutModel",
      "state": {}
     },
     "633a622b70914baca6f798067b88ab74": {
      "model_module": "@jupyter-widgets/base",
      "model_module_version": "2.0.0",
      "model_name": "LayoutModel",
      "state": {}
     },
     "633b2911ba6040df9aeaeaa5ee94cc05": {
      "model_module": "@jupyter-widgets/base",
      "model_module_version": "2.0.0",
      "model_name": "LayoutModel",
      "state": {}
     },
     "638909a741414ab5bbf171b02a4359fa": {
      "model_module": "@jupyter-widgets/base",
      "model_module_version": "2.0.0",
      "model_name": "LayoutModel",
      "state": {}
     },
     "648154f957a44f52abafa252bc09f90a": {
      "model_module": "@jupyter-widgets/base",
      "model_module_version": "2.0.0",
      "model_name": "LayoutModel",
      "state": {}
     },
     "695199aef41c40e5b54660afefda65de": {
      "model_module": "@jupyter-widgets/base",
      "model_module_version": "2.0.0",
      "model_name": "LayoutModel",
      "state": {}
     },
     "6ab701aece3545a089ecd844c28930af": {
      "model_module": "@jupyter-widgets/controls",
      "model_module_version": "2.0.0",
      "model_name": "HTMLStyleModel",
      "state": {
       "description_width": "",
       "font_size": null,
       "text_color": null
      }
     },
     "6dd78f81e913468cac250162fe93df2f": {
      "model_module": "@jupyter-widgets/controls",
      "model_module_version": "2.0.0",
      "model_name": "HTMLStyleModel",
      "state": {
       "description_width": "",
       "font_size": null,
       "text_color": null
      }
     },
     "6fa496c08f6b4749b10845c3ccc9992a": {
      "model_module": "@jupyter-widgets/controls",
      "model_module_version": "2.0.0",
      "model_name": "HBoxModel",
      "state": {
       "children": [
        "IPY_MODEL_c3c3100540c8446c9430e49ea24a04d1",
        "IPY_MODEL_226d313ca5de416d8aa8098d2bf1c00a",
        "IPY_MODEL_2b1a57121f0342539ab263eecd1b42e2"
       ],
       "layout": "IPY_MODEL_99e03d42af0d41a1a787b659281ad4b2"
      }
     },
     "7099e0c1f7734fb881551070d58a5868": {
      "model_module": "@jupyter-widgets/controls",
      "model_module_version": "2.0.0",
      "model_name": "HTMLModel",
      "state": {
       "layout": "IPY_MODEL_695199aef41c40e5b54660afefda65de",
       "style": "IPY_MODEL_5e6abe250b5e4485ab23831525ea1af0",
       "value": "special_tokens_map.json: 100%"
      }
     },
     "720fb7da23674b3d80845b074afd0eb4": {
      "model_module": "@jupyter-widgets/base",
      "model_module_version": "2.0.0",
      "model_name": "LayoutModel",
      "state": {}
     },
     "72c783180fd4441f8415f087c6d8873d": {
      "model_module": "@jupyter-widgets/controls",
      "model_module_version": "2.0.0",
      "model_name": "ProgressStyleModel",
      "state": {
       "description_width": ""
      }
     },
     "747c8877ffde4c6c848b91367f717e0f": {
      "model_module": "@jupyter-widgets/controls",
      "model_module_version": "2.0.0",
      "model_name": "HTMLModel",
      "state": {
       "layout": "IPY_MODEL_568b066709fe4f7586fdac07f812f664",
       "style": "IPY_MODEL_4356348bbbff4c3abd8daa90f4a9e812",
       "value": " 1.81M/1.81M [00:00&lt;00:00, 2.88MB/s]"
      }
     },
     "76458cce15ae4edca2538a786682b36a": {
      "model_module": "@jupyter-widgets/controls",
      "model_module_version": "2.0.0",
      "model_name": "HTMLStyleModel",
      "state": {
       "description_width": "",
       "font_size": null,
       "text_color": null
      }
     },
     "76d1570884a84bc68e9a1c16d6383303": {
      "model_module": "@jupyter-widgets/controls",
      "model_module_version": "2.0.0",
      "model_name": "HTMLModel",
      "state": {
       "layout": "IPY_MODEL_633a622b70914baca6f798067b88ab74",
       "style": "IPY_MODEL_01a89b4f1555426a8a4a54849ca833a5",
       "value": "pytorch_model.bin: 100%"
      }
     },
     "770036f69fd348089413c97863c35d1f": {
      "model_module": "@jupyter-widgets/controls",
      "model_module_version": "2.0.0",
      "model_name": "HBoxModel",
      "state": {
       "children": [
        "IPY_MODEL_546ec57acd85456e974a192858cacc0c",
        "IPY_MODEL_4931dd653ea44397bf436345f07a1c2f",
        "IPY_MODEL_c62a31f90d7c4411a013a326965c8880"
       ],
       "layout": "IPY_MODEL_b19cfa3b1da9438e8c5a8535de7fbdad"
      }
     },
     "77b6dc74ab7b494ea0266b7579a0537a": {
      "model_module": "@jupyter-widgets/base",
      "model_module_version": "2.0.0",
      "model_name": "LayoutModel",
      "state": {}
     },
     "781262a0ade749b58498967974020874": {
      "model_module": "@jupyter-widgets/controls",
      "model_module_version": "2.0.0",
      "model_name": "HTMLModel",
      "state": {
       "layout": "IPY_MODEL_a9d9cee00736471ba346acf64fb859a2",
       "style": "IPY_MODEL_f11a897355724602bb3ac63414ac52c0",
       "value": " 591/591 [00:00&lt;00:00, 120kB/s]"
      }
     },
     "78ad1d4358ca424fa304a4353796b72a": {
      "model_module": "@jupyter-widgets/base",
      "model_module_version": "2.0.0",
      "model_name": "LayoutModel",
      "state": {}
     },
     "78cf59968cc443f0b7df186b0e9d5e9e": {
      "model_module": "@jupyter-widgets/controls",
      "model_module_version": "2.0.0",
      "model_name": "HTMLModel",
      "state": {
       "layout": "IPY_MODEL_d1a395abc51244958bfb5e047ceaa951",
       "style": "IPY_MODEL_f83cd39dab04441d92a5f88b5b018700",
       "value": "tokenizer_config.json: 100%"
      }
     },
     "7a34df140d084858989ad7a8b1c073c5": {
      "model_module": "@jupyter-widgets/controls",
      "model_module_version": "2.0.0",
      "model_name": "HTMLModel",
      "state": {
       "layout": "IPY_MODEL_90935f09f5fd427fb66b536e4cd0e9f7",
       "style": "IPY_MODEL_96df75dccb5b4fb982dc26aed2f91d84",
       "value": " 24.0/24.0 [00:00&lt;00:00, 14.9kB/s]"
      }
     },
     "7a4042ff076d4945b7893992c12fb7af": {
      "model_module": "@jupyter-widgets/controls",
      "model_module_version": "2.0.0",
      "model_name": "ProgressStyleModel",
      "state": {
       "description_width": ""
      }
     },
     "7b8dd544470d4c42a51267e0c0048557": {
      "model_module": "@jupyter-widgets/base",
      "model_module_version": "2.0.0",
      "model_name": "LayoutModel",
      "state": {}
     },
     "7d857a5041b34edbb32b4f1af84a0ec1": {
      "model_module": "@jupyter-widgets/controls",
      "model_module_version": "2.0.0",
      "model_name": "FloatProgressModel",
      "state": {
       "bar_style": "success",
       "layout": "IPY_MODEL_a676f8b836f648a386bf2e59966b9c32",
       "max": 674,
       "style": "IPY_MODEL_02ae7da0d0e24ac8b7e2901d72466087",
       "value": 674
      }
     },
     "7e86320d79de4897bfc4bf668ad2ade1": {
      "model_module": "@jupyter-widgets/base",
      "model_module_version": "2.0.0",
      "model_name": "LayoutModel",
      "state": {}
     },
     "7edb130a17524154bad2c203f40c6708": {
      "model_module": "@jupyter-widgets/controls",
      "model_module_version": "2.0.0",
      "model_name": "HTMLStyleModel",
      "state": {
       "description_width": "",
       "font_size": null,
       "text_color": null
      }
     },
     "8072a0823c8a4a56bd1dca4521d713ef": {
      "model_module": "@jupyter-widgets/base",
      "model_module_version": "2.0.0",
      "model_name": "LayoutModel",
      "state": {}
     },
     "815f9e029e89410080f41799697d50fd": {
      "model_module": "@jupyter-widgets/controls",
      "model_module_version": "2.0.0",
      "model_name": "HTMLStyleModel",
      "state": {
       "description_width": "",
       "font_size": null,
       "text_color": null
      }
     },
     "81dd0fedbef7431c8e47151a2a37406e": {
      "model_module": "@jupyter-widgets/controls",
      "model_module_version": "2.0.0",
      "model_name": "HTMLModel",
      "state": {
       "layout": "IPY_MODEL_cd3755ab00da44dfa4b513f8b67be6a1",
       "style": "IPY_MODEL_8a132841ea32421ba94f297084256bf4",
       "value": " 125/125 [00:00&lt;00:00, 31.3kB/s]"
      }
     },
     "848bb7f03cb84d30bf7de31c0a120964": {
      "model_module": "@jupyter-widgets/controls",
      "model_module_version": "2.0.0",
      "model_name": "HBoxModel",
      "state": {
       "children": [
        "IPY_MODEL_78cf59968cc443f0b7df186b0e9d5e9e",
        "IPY_MODEL_ace34be0ef0444a5b8b0e97ccc54a0d7",
        "IPY_MODEL_7a34df140d084858989ad7a8b1c073c5"
       ],
       "layout": "IPY_MODEL_13462f9534a44cf99ce0560a616d7b33"
      }
     },
     "8555ffbe47724f1da0054a7817e0fd80": {
      "model_module": "@jupyter-widgets/controls",
      "model_module_version": "2.0.0",
      "model_name": "FloatProgressModel",
      "state": {
       "bar_style": "success",
       "layout": "IPY_MODEL_13e5e3c7be6d4b6ca2ff32fee5e36f5d",
       "max": 1712497782,
       "style": "IPY_MODEL_7a4042ff076d4945b7893992c12fb7af",
       "value": 1712497782
      }
     },
     "868dd2aa2452443a850ef715dbe61126": {
      "model_module": "@jupyter-widgets/controls",
      "model_module_version": "2.0.0",
      "model_name": "FloatProgressModel",
      "state": {
       "bar_style": "success",
       "layout": "IPY_MODEL_56acc7e56cef41f7a4020a315770234e",
       "max": 1421754926,
       "style": "IPY_MODEL_fd897e9313a9449c99e41e2efebf2aa1",
       "value": 1421754926
      }
     },
     "88e9458f481c4b32b125dca261334baa": {
      "model_module": "@jupyter-widgets/base",
      "model_module_version": "2.0.0",
      "model_name": "LayoutModel",
      "state": {}
     },
     "896c7ec992ef48e68fd107fcb8e05de1": {
      "model_module": "@jupyter-widgets/base",
      "model_module_version": "2.0.0",
      "model_name": "LayoutModel",
      "state": {}
     },
     "8a132841ea32421ba94f297084256bf4": {
      "model_module": "@jupyter-widgets/controls",
      "model_module_version": "2.0.0",
      "model_name": "HTMLStyleModel",
      "state": {
       "description_width": "",
       "font_size": null,
       "text_color": null
      }
     },
     "8b669ade262a401f82befedc8a2d6b19": {
      "model_module": "@jupyter-widgets/controls",
      "model_module_version": "2.0.0",
      "model_name": "HTMLModel",
      "state": {
       "layout": "IPY_MODEL_165777305b344d0291eb1816d8a61816",
       "style": "IPY_MODEL_e46870959a254f039ab8dc421b440c5a",
       "value": "pytorch_model.bin: 100%"
      }
     },
     "8cb8ab90d07248729f340977c29ac158": {
      "model_module": "@jupyter-widgets/base",
      "model_module_version": "2.0.0",
      "model_name": "LayoutModel",
      "state": {}
     },
     "8f54be898d494860857db76889e69c8b": {
      "model_module": "@jupyter-widgets/base",
      "model_module_version": "2.0.0",
      "model_name": "LayoutModel",
      "state": {}
     },
     "90935f09f5fd427fb66b536e4cd0e9f7": {
      "model_module": "@jupyter-widgets/base",
      "model_module_version": "2.0.0",
      "model_name": "LayoutModel",
      "state": {}
     },
     "933f475b8f3b442dba5ca8ecf7163cfb": {
      "model_module": "@jupyter-widgets/base",
      "model_module_version": "2.0.0",
      "model_name": "LayoutModel",
      "state": {}
     },
     "941888d7c16841aaaea2a0d476b04e6e": {
      "model_module": "@jupyter-widgets/controls",
      "model_module_version": "2.0.0",
      "model_name": "ProgressStyleModel",
      "state": {
       "description_width": ""
      }
     },
     "94f75a34d322492bbf7e6a6a07ac0dc3": {
      "model_module": "@jupyter-widgets/base",
      "model_module_version": "2.0.0",
      "model_name": "LayoutModel",
      "state": {}
     },
     "951fc50f43854ad9a995f8ff00fb0d77": {
      "model_module": "@jupyter-widgets/controls",
      "model_module_version": "2.0.0",
      "model_name": "ProgressStyleModel",
      "state": {
       "description_width": ""
      }
     },
     "964138cb1bc841fa95b4c73192a86854": {
      "model_module": "@jupyter-widgets/controls",
      "model_module_version": "2.0.0",
      "model_name": "HTMLStyleModel",
      "state": {
       "description_width": "",
       "font_size": null,
       "text_color": null
      }
     },
     "96df75dccb5b4fb982dc26aed2f91d84": {
      "model_module": "@jupyter-widgets/controls",
      "model_module_version": "2.0.0",
      "model_name": "HTMLStyleModel",
      "state": {
       "description_width": "",
       "font_size": null,
       "text_color": null
      }
     },
     "9927f9a90a544dceadc4d0500222ca14": {
      "model_module": "@jupyter-widgets/controls",
      "model_module_version": "2.0.0",
      "model_name": "HTMLStyleModel",
      "state": {
       "description_width": "",
       "font_size": null,
       "text_color": null
      }
     },
     "99868db38aa74ba884cfc73cb39bd2ad": {
      "model_module": "@jupyter-widgets/controls",
      "model_module_version": "2.0.0",
      "model_name": "HTMLModel",
      "state": {
       "layout": "IPY_MODEL_720fb7da23674b3d80845b074afd0eb4",
       "style": "IPY_MODEL_964138cb1bc841fa95b4c73192a86854",
       "value": "config.json: 100%"
      }
     },
     "99a62014b8874e359477a16fc8984068": {
      "model_module": "@jupyter-widgets/controls",
      "model_module_version": "2.0.0",
      "model_name": "ProgressStyleModel",
      "state": {
       "description_width": ""
      }
     },
     "99d88648a3ba41fe95a7dcff6ad631ba": {
      "model_module": "@jupyter-widgets/controls",
      "model_module_version": "2.0.0",
      "model_name": "FloatProgressModel",
      "state": {
       "bar_style": "success",
       "layout": "IPY_MODEL_15c6896eefb642438e036153103a6687",
       "max": 1712382168,
       "style": "IPY_MODEL_99a62014b8874e359477a16fc8984068",
       "value": 1712382168
      }
     },
     "99e03d42af0d41a1a787b659281ad4b2": {
      "model_module": "@jupyter-widgets/base",
      "model_module_version": "2.0.0",
      "model_name": "LayoutModel",
      "state": {}
     },
     "9b0711124b6447698a140192c2e74750": {
      "model_module": "@jupyter-widgets/controls",
      "model_module_version": "2.0.0",
      "model_name": "HTMLModel",
      "state": {
       "layout": "IPY_MODEL_f8d8199a835f4526832797bf48166b66",
       "style": "IPY_MODEL_a256b02a5f8d437f9c8da52c0506a7b9",
       "value": " 674/674 [00:00&lt;00:00, 43.2kB/s]"
      }
     },
     "9c37d2a54de14071982927e8d3438c07": {
      "model_module": "@jupyter-widgets/controls",
      "model_module_version": "2.0.0",
      "model_name": "ProgressStyleModel",
      "state": {
       "description_width": ""
      }
     },
     "9ded5154e2604730b261d89c5c4fd7b8": {
      "model_module": "@jupyter-widgets/base",
      "model_module_version": "2.0.0",
      "model_name": "LayoutModel",
      "state": {}
     },
     "9e573456cb8c441889f06d73921e2a7d": {
      "model_module": "@jupyter-widgets/controls",
      "model_module_version": "2.0.0",
      "model_name": "HTMLModel",
      "state": {
       "layout": "IPY_MODEL_317c44143bf746b09dd9af24d8287a9b",
       "style": "IPY_MODEL_32ba44ae24ca49108a4819b69b599a3d",
       "value": " 642/642 [00:00&lt;00:00, 41.1kB/s]"
      }
     },
     "a0e13da2c91b4d51abd7a5d82235a536": {
      "model_module": "@jupyter-widgets/controls",
      "model_module_version": "2.0.0",
      "model_name": "HBoxModel",
      "state": {
       "children": [
        "IPY_MODEL_fb49aee57d8c4f438c4e004596020853",
        "IPY_MODEL_8555ffbe47724f1da0054a7817e0fd80",
        "IPY_MODEL_f6f1df7e1a3343d39d079d0b23f79891"
       ],
       "layout": "IPY_MODEL_24543bf4f0104eee8757570b6d335ba0"
      }
     },
     "a0eb11386db045879cb113cf1bf05fc5": {
      "model_module": "@jupyter-widgets/base",
      "model_module_version": "2.0.0",
      "model_name": "LayoutModel",
      "state": {}
     },
     "a14d206cf7cc4ca5ade1dccc0876183c": {
      "model_module": "@jupyter-widgets/controls",
      "model_module_version": "2.0.0",
      "model_name": "HTMLModel",
      "state": {
       "layout": "IPY_MODEL_8f54be898d494860857db76889e69c8b",
       "style": "IPY_MODEL_5a663b23f65e47f597815ed7cee75964",
       "value": " 1.42G/1.42G [02:09&lt;00:00, 11.4MB/s]"
      }
     },
     "a166f8f084394d118d8c55674c7a77a3": {
      "model_module": "@jupyter-widgets/base",
      "model_module_version": "2.0.0",
      "model_name": "LayoutModel",
      "state": {}
     },
     "a256b02a5f8d437f9c8da52c0506a7b9": {
      "model_module": "@jupyter-widgets/controls",
      "model_module_version": "2.0.0",
      "model_name": "HTMLStyleModel",
      "state": {
       "description_width": "",
       "font_size": null,
       "text_color": null
      }
     },
     "a634645fbc1b458d898ce1c74c9dd36e": {
      "model_module": "@jupyter-widgets/controls",
      "model_module_version": "2.0.0",
      "model_name": "HBoxModel",
      "state": {
       "children": [
        "IPY_MODEL_2565bbe096cf421ea504b30975f408d5",
        "IPY_MODEL_b2b276c0d0bc4e569259b09fe2a822b7",
        "IPY_MODEL_781262a0ade749b58498967974020874"
       ],
       "layout": "IPY_MODEL_daea10a039e2427f9c1722b34a6cdb3d"
      }
     },
     "a676f8b836f648a386bf2e59966b9c32": {
      "model_module": "@jupyter-widgets/base",
      "model_module_version": "2.0.0",
      "model_name": "LayoutModel",
      "state": {}
     },
     "a6ab7bcc5f884cf7889452244e3a57da": {
      "model_module": "@jupyter-widgets/controls",
      "model_module_version": "2.0.0",
      "model_name": "HTMLModel",
      "state": {
       "layout": "IPY_MODEL_081d2d4a3d604639b6ac028f334893a2",
       "style": "IPY_MODEL_2764656bd2354a1d83339227bc8ebe24",
       "value": "merges.txt: 100%"
      }
     },
     "a9d9cee00736471ba346acf64fb859a2": {
      "model_module": "@jupyter-widgets/base",
      "model_module_version": "2.0.0",
      "model_name": "LayoutModel",
      "state": {}
     },
     "ab0bfc24da6c422ab39e6a49da04c124": {
      "model_module": "@jupyter-widgets/controls",
      "model_module_version": "2.0.0",
      "model_name": "HTMLStyleModel",
      "state": {
       "description_width": "",
       "font_size": null,
       "text_color": null
      }
     },
     "ab9abf8623b940bd906329ef7a633126": {
      "model_module": "@jupyter-widgets/base",
      "model_module_version": "2.0.0",
      "model_name": "LayoutModel",
      "state": {}
     },
     "ace34be0ef0444a5b8b0e97ccc54a0d7": {
      "model_module": "@jupyter-widgets/controls",
      "model_module_version": "2.0.0",
      "model_name": "FloatProgressModel",
      "state": {
       "bar_style": "success",
       "layout": "IPY_MODEL_213b3eed4b05485d9c5dc095eaa6035b",
       "max": 24,
       "style": "IPY_MODEL_941888d7c16841aaaea2a0d476b04e6e",
       "value": 24
      }
     },
     "ad34e8503ae14706a881df4011d17b40": {
      "model_module": "@jupyter-widgets/controls",
      "model_module_version": "2.0.0",
      "model_name": "HTMLModel",
      "state": {
       "layout": "IPY_MODEL_2f47e4082fe84b11be0e743794914be5",
       "style": "IPY_MODEL_098029cdb7de4dc8b17496ec124281c1",
       "value": "config.json: 100%"
      }
     },
     "ae4fd0ec7e294339b29b9fd962ade88e": {
      "model_module": "@jupyter-widgets/controls",
      "model_module_version": "2.0.0",
      "model_name": "HTMLStyleModel",
      "state": {
       "description_width": "",
       "font_size": null,
       "text_color": null
      }
     },
     "b158fcc03d2c446b83277bbfa155aaca": {
      "model_module": "@jupyter-widgets/controls",
      "model_module_version": "2.0.0",
      "model_name": "HBoxModel",
      "state": {
       "children": [
        "IPY_MODEL_2a05f791ea224fecb04897f84aa2f9a9",
        "IPY_MODEL_0ed20e1bfc804a4e85c1436280fe580e",
        "IPY_MODEL_b55b0b533ef9454d8f40cb111d7552a3"
       ],
       "layout": "IPY_MODEL_04317b9e401841ddbd78fe8b8b55572d"
      }
     },
     "b1739b938f4d4f379df26983b09c1dd3": {
      "model_module": "@jupyter-widgets/controls",
      "model_module_version": "2.0.0",
      "model_name": "HTMLModel",
      "state": {
       "layout": "IPY_MODEL_b350e20a76b842f389027635301a7177",
       "style": "IPY_MODEL_c88318f2913c4b50a11c977f0040bb51",
       "value": "special_tokens_map.json: 100%"
      }
     },
     "b19cfa3b1da9438e8c5a8535de7fbdad": {
      "model_module": "@jupyter-widgets/base",
      "model_module_version": "2.0.0",
      "model_name": "LayoutModel",
      "state": {}
     },
     "b2b276c0d0bc4e569259b09fe2a822b7": {
      "model_module": "@jupyter-widgets/controls",
      "model_module_version": "2.0.0",
      "model_name": "FloatProgressModel",
      "state": {
       "bar_style": "success",
       "layout": "IPY_MODEL_78ad1d4358ca424fa304a4353796b72a",
       "max": 591,
       "style": "IPY_MODEL_951fc50f43854ad9a995f8ff00fb0d77",
       "value": 591
      }
     },
     "b34c2171fe5f4a0fb35e094994a9a183": {
      "model_module": "@jupyter-widgets/base",
      "model_module_version": "2.0.0",
      "model_name": "LayoutModel",
      "state": {}
     },
     "b350e20a76b842f389027635301a7177": {
      "model_module": "@jupyter-widgets/base",
      "model_module_version": "2.0.0",
      "model_name": "LayoutModel",
      "state": {}
     },
     "b55b0b533ef9454d8f40cb111d7552a3": {
      "model_module": "@jupyter-widgets/controls",
      "model_module_version": "2.0.0",
      "model_name": "HTMLModel",
      "state": {
       "layout": "IPY_MODEL_05adcea45db843d89c2c2b3fad49b040",
       "style": "IPY_MODEL_da1af045a96246dc84073a6d1c5d3649",
       "value": " 863/863 [00:00&lt;?, ?B/s]"
      }
     },
     "b5751e3ec02e4e3f8b61ee11d7c21c49": {
      "model_module": "@jupyter-widgets/base",
      "model_module_version": "2.0.0",
      "model_name": "LayoutModel",
      "state": {}
     },
     "b82373e6ae3f41a1864590cfc10aa99a": {
      "model_module": "@jupyter-widgets/base",
      "model_module_version": "2.0.0",
      "model_name": "LayoutModel",
      "state": {}
     },
     "bb02a4b1a0b34f32806a812909eb8f54": {
      "model_module": "@jupyter-widgets/controls",
      "model_module_version": "2.0.0",
      "model_name": "HBoxModel",
      "state": {
       "children": [
        "IPY_MODEL_45002a58ae4746d695b8f2fb1cada697",
        "IPY_MODEL_99d88648a3ba41fe95a7dcff6ad631ba",
        "IPY_MODEL_e0b47043f3994a1ba8d9ced241e7f222"
       ],
       "layout": "IPY_MODEL_1da267a652d543919bddfc04f48d6a3c"
      }
     },
     "bbb84fd801934347af20b4cee409e81a": {
      "model_module": "@jupyter-widgets/controls",
      "model_module_version": "2.0.0",
      "model_name": "HTMLModel",
      "state": {
       "layout": "IPY_MODEL_b82373e6ae3f41a1864590cfc10aa99a",
       "style": "IPY_MODEL_815f9e029e89410080f41799697d50fd",
       "value": " 112/112 [00:00&lt;00:00, 7.10kB/s]"
      }
     },
     "bc745b3f3e694153a05e60489b3fde4f": {
      "model_module": "@jupyter-widgets/controls",
      "model_module_version": "2.0.0",
      "model_name": "HBoxModel",
      "state": {
       "children": [
        "IPY_MODEL_021841ae3a6f41c59aedd52763bcfc8b",
        "IPY_MODEL_304c824b0ebb4c41b26bac290b4dfd0c",
        "IPY_MODEL_345414f12ff04c4995a5613c3e299868"
       ],
       "layout": "IPY_MODEL_01f70ab63dcc449b950f09a8878c364c"
      }
     },
     "c22873d333d44674bca02e978adc219e": {
      "model_module": "@jupyter-widgets/controls",
      "model_module_version": "2.0.0",
      "model_name": "HTMLStyleModel",
      "state": {
       "description_width": "",
       "font_size": null,
       "text_color": null
      }
     },
     "c3c3100540c8446c9430e49ea24a04d1": {
      "model_module": "@jupyter-widgets/controls",
      "model_module_version": "2.0.0",
      "model_name": "HTMLModel",
      "state": {
       "layout": "IPY_MODEL_58f6fb49941d4a198f554b8eabdaf982",
       "style": "IPY_MODEL_9927f9a90a544dceadc4d0500222ca14",
       "value": "vocab.txt: 100%"
      }
     },
     "c537210a0c2d4856ab0448bd3f379551": {
      "model_module": "@jupyter-widgets/base",
      "model_module_version": "2.0.0",
      "model_name": "LayoutModel",
      "state": {}
     },
     "c5d1e6da4f2c4482898bc1a7d543c057": {
      "model_module": "@jupyter-widgets/base",
      "model_module_version": "2.0.0",
      "model_name": "LayoutModel",
      "state": {}
     },
     "c62a31f90d7c4411a013a326965c8880": {
      "model_module": "@jupyter-widgets/controls",
      "model_module_version": "2.0.0",
      "model_name": "HTMLModel",
      "state": {
       "layout": "IPY_MODEL_77b6dc74ab7b494ea0266b7579a0537a",
       "style": "IPY_MODEL_1fd24933346749d19fbdcf1afd3e51f5",
       "value": " 1.71G/1.71G [03:38&lt;00:00, 11.8MB/s]"
      }
     },
     "c67edb0a6d794fefbcd7869f5bba3d06": {
      "model_module": "@jupyter-widgets/controls",
      "model_module_version": "2.0.0",
      "model_name": "FloatProgressModel",
      "state": {
       "bar_style": "success",
       "layout": "IPY_MODEL_7b8dd544470d4c42a51267e0c0048557",
       "max": 1369443,
       "style": "IPY_MODEL_f8563bab69ec4935abc1a6367e6ac541",
       "value": 1369443
      }
     },
     "c6d17c7e702d4b139fd660e6c350e5a7": {
      "model_module": "@jupyter-widgets/controls",
      "model_module_version": "2.0.0",
      "model_name": "HTMLModel",
      "state": {
       "layout": "IPY_MODEL_19ac71792b3a4dc6a64c0924c14b5e83",
       "style": "IPY_MODEL_e0d0ad48ddc641b4b518e848b2a9e6c3",
       "value": " 1.78M/1.78M [00:00&lt;00:00, 2.14MB/s]"
      }
     },
     "c7cbfb0bd36c4e929e5c9400cdca4183": {
      "model_module": "@jupyter-widgets/controls",
      "model_module_version": "2.0.0",
      "model_name": "ProgressStyleModel",
      "state": {
       "description_width": ""
      }
     },
     "c88318f2913c4b50a11c977f0040bb51": {
      "model_module": "@jupyter-widgets/controls",
      "model_module_version": "2.0.0",
      "model_name": "HTMLStyleModel",
      "state": {
       "description_width": "",
       "font_size": null,
       "text_color": null
      }
     },
     "c8c4b028361e400aa0275050d4dfa88d": {
      "model_module": "@jupyter-widgets/controls",
      "model_module_version": "2.0.0",
      "model_name": "FloatProgressModel",
      "state": {
       "bar_style": "success",
       "layout": "IPY_MODEL_59bc634b206d44aa9499cd582edb8776",
       "max": 1270,
       "style": "IPY_MODEL_9c37d2a54de14071982927e8d3438c07",
       "value": 1270
      }
     },
     "cd3755ab00da44dfa4b513f8b67be6a1": {
      "model_module": "@jupyter-widgets/base",
      "model_module_version": "2.0.0",
      "model_name": "LayoutModel",
      "state": {}
     },
     "cecbf1d0e9c24a8f9d0ec8fd26975e3d": {
      "model_module": "@jupyter-widgets/controls",
      "model_module_version": "2.0.0",
      "model_name": "ProgressStyleModel",
      "state": {
       "description_width": ""
      }
     },
     "cfd6ce411bdf4fd1a818785662d3c0c0": {
      "model_module": "@jupyter-widgets/controls",
      "model_module_version": "2.0.0",
      "model_name": "FloatProgressModel",
      "state": {
       "bar_style": "success",
       "layout": "IPY_MODEL_1908fd5aff5c4044a2422c2215d2e4a6",
       "max": 3714602,
       "style": "IPY_MODEL_d9f0f42575c04072a33006dde864a6b6",
       "value": 3714602
      }
     },
     "d0c1d53a33484ff0a278f849edb6e7f7": {
      "model_module": "@jupyter-widgets/controls",
      "model_module_version": "2.0.0",
      "model_name": "HBoxModel",
      "state": {
       "children": [
        "IPY_MODEL_23027b915eba4d60b7d74b44f05b7734",
        "IPY_MODEL_cfd6ce411bdf4fd1a818785662d3c0c0",
        "IPY_MODEL_35f5f12ccf7a4fb3af6aa9bbdc1806e4"
       ],
       "layout": "IPY_MODEL_fa51b426fada4772ba9464f8a2c03b64"
      }
     },
     "d159754bd24f4ae898d664e104c27036": {
      "model_module": "@jupyter-widgets/controls",
      "model_module_version": "2.0.0",
      "model_name": "HTMLModel",
      "state": {
       "layout": "IPY_MODEL_de45d8159e7741948fc77127ab122666",
       "style": "IPY_MODEL_48ecf7af8e9f44d0b10c0700fcb1576b",
       "value": " 1.42G/1.42G [03:50&lt;00:00, 6.40MB/s]"
      }
     },
     "d1a395abc51244958bfb5e047ceaa951": {
      "model_module": "@jupyter-widgets/base",
      "model_module_version": "2.0.0",
      "model_name": "LayoutModel",
      "state": {}
     },
     "d2b9677f376143eeb49883b8dabb9a76": {
      "model_module": "@jupyter-widgets/controls",
      "model_module_version": "2.0.0",
      "model_name": "ProgressStyleModel",
      "state": {
       "description_width": ""
      }
     },
     "d9f0f42575c04072a33006dde864a6b6": {
      "model_module": "@jupyter-widgets/controls",
      "model_module_version": "2.0.0",
      "model_name": "ProgressStyleModel",
      "state": {
       "description_width": ""
      }
     },
     "da1af045a96246dc84073a6d1c5d3649": {
      "model_module": "@jupyter-widgets/controls",
      "model_module_version": "2.0.0",
      "model_name": "HTMLStyleModel",
      "state": {
       "description_width": "",
       "font_size": null,
       "text_color": null
      }
     },
     "daea10a039e2427f9c1722b34a6cdb3d": {
      "model_module": "@jupyter-widgets/base",
      "model_module_version": "2.0.0",
      "model_name": "LayoutModel",
      "state": {}
     },
     "de45d8159e7741948fc77127ab122666": {
      "model_module": "@jupyter-widgets/base",
      "model_module_version": "2.0.0",
      "model_name": "LayoutModel",
      "state": {}
     },
     "e068930ed91b4e3f8d70694f0f3ef66a": {
      "model_module": "@jupyter-widgets/controls",
      "model_module_version": "2.0.0",
      "model_name": "HTMLStyleModel",
      "state": {
       "description_width": "",
       "font_size": null,
       "text_color": null
      }
     },
     "e0b47043f3994a1ba8d9ced241e7f222": {
      "model_module": "@jupyter-widgets/controls",
      "model_module_version": "2.0.0",
      "model_name": "HTMLModel",
      "state": {
       "layout": "IPY_MODEL_189507917df94b45893dfafb37bf38f5",
       "style": "IPY_MODEL_00e51492259f4db98d83556f20844d51",
       "value": " 1.71G/1.71G [02:36&lt;00:00, 11.5MB/s]"
      }
     },
     "e0d0ad48ddc641b4b518e848b2a9e6c3": {
      "model_module": "@jupyter-widgets/controls",
      "model_module_version": "2.0.0",
      "model_name": "HTMLStyleModel",
      "state": {
       "description_width": "",
       "font_size": null,
       "text_color": null
      }
     },
     "e12b6ce0732e46d688bb251c0dba1b8e": {
      "model_module": "@jupyter-widgets/base",
      "model_module_version": "2.0.0",
      "model_name": "LayoutModel",
      "state": {}
     },
     "e46870959a254f039ab8dc421b440c5a": {
      "model_module": "@jupyter-widgets/controls",
      "model_module_version": "2.0.0",
      "model_name": "HTMLStyleModel",
      "state": {
       "description_width": "",
       "font_size": null,
       "text_color": null
      }
     },
     "ebb7bbabf75841ab95c787fde3ac16b2": {
      "model_module": "@jupyter-widgets/controls",
      "model_module_version": "2.0.0",
      "model_name": "HBoxModel",
      "state": {
       "children": [
        "IPY_MODEL_a6ab7bcc5f884cf7889452244e3a57da",
        "IPY_MODEL_c67edb0a6d794fefbcd7869f5bba3d06",
        "IPY_MODEL_fdbbc965d5fd48f9b47778f3a0012bbd"
       ],
       "layout": "IPY_MODEL_9ded5154e2604730b261d89c5c4fd7b8"
      }
     },
     "ee7e2df93a6c4957bbb154ae3bed8936": {
      "model_module": "@jupyter-widgets/controls",
      "model_module_version": "2.0.0",
      "model_name": "HBoxModel",
      "state": {
       "children": [
        "IPY_MODEL_32bf815f48ce4c969c22cf540b640286",
        "IPY_MODEL_4583a9ed038b4083af44b81051f361a8",
        "IPY_MODEL_d159754bd24f4ae898d664e104c27036"
       ],
       "layout": "IPY_MODEL_307e728d72874ab49f0bced7d71053a3"
      }
     },
     "ee9dab5f91e34043986037b9e9425fac": {
      "model_module": "@jupyter-widgets/controls",
      "model_module_version": "2.0.0",
      "model_name": "HTMLModel",
      "state": {
       "layout": "IPY_MODEL_43290ec9df7744ee98d58549fd10a994",
       "style": "IPY_MODEL_16b44a526cac4122b523c0aced2d84e6",
       "value": " 1.27k/1.27k [00:00&lt;?, ?B/s]"
      }
     },
     "efaee595530449649828344d2e7c9fc4": {
      "model_module": "@jupyter-widgets/controls",
      "model_module_version": "2.0.0",
      "model_name": "HBoxModel",
      "state": {
       "children": [
        "IPY_MODEL_8b669ade262a401f82befedc8a2d6b19",
        "IPY_MODEL_47774f5c9bd341648bd7de42a0684202",
        "IPY_MODEL_290fc815c233403b99071316cd3f1880"
       ],
       "layout": "IPY_MODEL_c5d1e6da4f2c4482898bc1a7d543c057"
      }
     },
     "f04b296add64421296a9c034e300608c": {
      "model_module": "@jupyter-widgets/controls",
      "model_module_version": "2.0.0",
      "model_name": "HTMLStyleModel",
      "state": {
       "description_width": "",
       "font_size": null,
       "text_color": null
      }
     },
     "f11a897355724602bb3ac63414ac52c0": {
      "model_module": "@jupyter-widgets/controls",
      "model_module_version": "2.0.0",
      "model_name": "HTMLStyleModel",
      "state": {
       "description_width": "",
       "font_size": null,
       "text_color": null
      }
     },
     "f262e9a4ae03407ca73d95227da31d52": {
      "model_module": "@jupyter-widgets/controls",
      "model_module_version": "2.0.0",
      "model_name": "HTMLStyleModel",
      "state": {
       "description_width": "",
       "font_size": null,
       "text_color": null
      }
     },
     "f2878f0fd2434f1bb4f7fdc1c9d665d2": {
      "model_module": "@jupyter-widgets/controls",
      "model_module_version": "2.0.0",
      "model_name": "HTMLStyleModel",
      "state": {
       "description_width": "",
       "font_size": null,
       "text_color": null
      }
     },
     "f378773f2fbf42b6b603f8e516c8d0b2": {
      "model_module": "@jupyter-widgets/base",
      "model_module_version": "2.0.0",
      "model_name": "LayoutModel",
      "state": {}
     },
     "f52c738f7f854506870edebb457cc12e": {
      "model_module": "@jupyter-widgets/controls",
      "model_module_version": "2.0.0",
      "model_name": "HTMLStyleModel",
      "state": {
       "description_width": "",
       "font_size": null,
       "text_color": null
      }
     },
     "f61951fd59d34affbc1b0de6b36c5a56": {
      "model_module": "@jupyter-widgets/base",
      "model_module_version": "2.0.0",
      "model_name": "LayoutModel",
      "state": {}
     },
     "f6f1df7e1a3343d39d079d0b23f79891": {
      "model_module": "@jupyter-widgets/controls",
      "model_module_version": "2.0.0",
      "model_name": "HTMLModel",
      "state": {
       "layout": "IPY_MODEL_c537210a0c2d4856ab0448bd3f379551",
       "style": "IPY_MODEL_f04b296add64421296a9c034e300608c",
       "value": " 1.71G/1.71G [04:39&lt;00:00, 10.5MB/s]"
      }
     },
     "f83cd39dab04441d92a5f88b5b018700": {
      "model_module": "@jupyter-widgets/controls",
      "model_module_version": "2.0.0",
      "model_name": "HTMLStyleModel",
      "state": {
       "description_width": "",
       "font_size": null,
       "text_color": null
      }
     },
     "f8563bab69ec4935abc1a6367e6ac541": {
      "model_module": "@jupyter-widgets/controls",
      "model_module_version": "2.0.0",
      "model_name": "ProgressStyleModel",
      "state": {
       "description_width": ""
      }
     },
     "f8d8199a835f4526832797bf48166b66": {
      "model_module": "@jupyter-widgets/base",
      "model_module_version": "2.0.0",
      "model_name": "LayoutModel",
      "state": {}
     },
     "f97addc7175940dfbb4ac9456d881909": {
      "model_module": "@jupyter-widgets/base",
      "model_module_version": "2.0.0",
      "model_name": "LayoutModel",
      "state": {}
     },
     "fa51b426fada4772ba9464f8a2c03b64": {
      "model_module": "@jupyter-widgets/base",
      "model_module_version": "2.0.0",
      "model_name": "LayoutModel",
      "state": {}
     },
     "fa6ff2a0374144f7aec384059219f106": {
      "model_module": "@jupyter-widgets/controls",
      "model_module_version": "2.0.0",
      "model_name": "HTMLStyleModel",
      "state": {
       "description_width": "",
       "font_size": null,
       "text_color": null
      }
     },
     "fb49aee57d8c4f438c4e004596020853": {
      "model_module": "@jupyter-widgets/controls",
      "model_module_version": "2.0.0",
      "model_name": "HTMLModel",
      "state": {
       "layout": "IPY_MODEL_f97addc7175940dfbb4ac9456d881909",
       "style": "IPY_MODEL_6dd78f81e913468cac250162fe93df2f",
       "value": "pytorch_model.bin: 100%"
      }
     },
     "fc48b0dc59084b8d875329156fbb3780": {
      "model_module": "@jupyter-widgets/base",
      "model_module_version": "2.0.0",
      "model_name": "LayoutModel",
      "state": {}
     },
     "fd897e9313a9449c99e41e2efebf2aa1": {
      "model_module": "@jupyter-widgets/controls",
      "model_module_version": "2.0.0",
      "model_name": "ProgressStyleModel",
      "state": {
       "description_width": ""
      }
     },
     "fdbbc965d5fd48f9b47778f3a0012bbd": {
      "model_module": "@jupyter-widgets/controls",
      "model_module_version": "2.0.0",
      "model_name": "HTMLModel",
      "state": {
       "layout": "IPY_MODEL_4bda177a2c444e71a9bfe37e4d81c533",
       "style": "IPY_MODEL_ae4fd0ec7e294339b29b9fd962ade88e",
       "value": " 1.37M/1.37M [00:00&lt;00:00, 2.35MB/s]"
      }
     },
     "fe11544f4e4c46ffac337de5a67da458": {
      "model_module": "@jupyter-widgets/controls",
      "model_module_version": "2.0.0",
      "model_name": "HTMLModel",
      "state": {
       "layout": "IPY_MODEL_648154f957a44f52abafa252bc09f90a",
       "style": "IPY_MODEL_46e6b74074a8473198f902100242ad72",
       "value": "vocab.json: 100%"
      }
     },
     "fee88f451025449f8e729d83eba14a20": {
      "model_module": "@jupyter-widgets/controls",
      "model_module_version": "2.0.0",
      "model_name": "ProgressStyleModel",
      "state": {
       "description_width": ""
      }
     }
    },
    "version_major": 2,
    "version_minor": 0
   }
  }
 },
 "nbformat": 4,
 "nbformat_minor": 5
}
